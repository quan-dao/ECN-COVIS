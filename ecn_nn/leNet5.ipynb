{
 "cells": [
  {
   "cell_type": "code",
   "execution_count": 27,
   "metadata": {},
   "outputs": [],
   "source": [
    "from tensorflow import keras\n",
    "from tensorflow.keras.datasets import mnist\n",
    "from tensorflow.keras.models import Sequential\n",
    "from tensorflow.keras.layers import Dense, Dropout, Flatten\n",
    "from tensorflow.keras.layers import Conv2D, MaxPooling2D, AveragePooling2D\n",
    "from tensorflow.keras import backend as K\n",
    "from tensorflow.keras.utils import to_categorical\n",
    "\n",
    "import matplotlib.pyplot as plt\n",
    "import numpy as np"
   ]
  },
  {
   "cell_type": "markdown",
   "metadata": {},
   "source": [
    "# Data"
   ]
  },
  {
   "cell_type": "code",
   "execution_count": 34,
   "metadata": {},
   "outputs": [],
   "source": [
    "batch_size = 128\n",
    "num_classes = 10\n",
    "epochs = 12\n",
    "\n",
    "# input image dim\n",
    "img_rows, img_cols = 28, 28\n",
    "\n",
    "# allocate data into train and test sets\n",
    "(x_train, y_train), (x_test, y_test) = mnist.load_data()\n",
    "\n",
    "if K.image_data_format() == 'channels_first':\n",
    "    x_train = x_train.reshape(x_train.shape[0], 1, img_rows, img_cols)\n",
    "    x_test = x_test.reshape(x_test.shape[0], 1, img_rows, img_cols)\n",
    "    input_shape = (1, img_rows, img_cols)\n",
    "else:\n",
    "    x_train = x_train.reshape(x_train.shape[0], img_rows, img_cols, 1)\n",
    "    x_test = x_test.reshape(x_test.shape[0], img_rows, img_cols, 1)\n",
    "    input_shape = (img_rows, img_cols, 1)"
   ]
  },
  {
   "cell_type": "markdown",
   "metadata": {},
   "source": [
    "### Display some images"
   ]
  },
  {
   "cell_type": "code",
   "execution_count": 35,
   "metadata": {},
   "outputs": [
    {
     "name": "stdout",
     "output_type": "stream",
     "text": [
      "Image data type:  <class 'numpy.ndarray'>\n",
      "Shape of train image:  (28, 28, 1)\n"
     ]
    }
   ],
   "source": [
    "print('Image data type: ', type(x_train[0]))\n",
    "print('Shape of train image: ', x_train[0].shape)"
   ]
  },
  {
   "cell_type": "code",
   "execution_count": 36,
   "metadata": {},
   "outputs": [
    {
     "data": {
      "image/png": "[encoded data removed]",
      "text/plain": [
       "<Figure size 432x288 with 1 Axes>"
      ]
     },
     "metadata": {
      "needs_background": "light"
     },
     "output_type": "display_data"
    }
   ],
   "source": [
    "plt.figure()\n",
    "plt.imshow(x_train[0].squeeze())\n",
    "plt.grid(False)\n",
    "plt.show()"
   ]
  },
  {
   "cell_type": "markdown",
   "metadata": {},
   "source": [
    "### Normalize image"
   ]
  },
  {
   "cell_type": "code",
   "execution_count": 37,
   "metadata": {},
   "outputs": [
    {
     "name": "stdout",
     "output_type": "stream",
     "text": [
      "x_train shape: (60000, 28, 28, 1)\n",
      "60000 train samples\n",
      "10000 test samples\n"
     ]
    }
   ],
   "source": [
    "x_train = x_train.astype('float32')\n",
    "x_test = x_test.astype('float32')\n",
    "x_train /= 255\n",
    "x_test /= 255\n",
    "print('x_train shape:', x_train.shape)\n",
    "print(x_train.shape[0], 'train samples')\n",
    "print(x_test.shape[0], 'test samples')"
   ]
  },
  {
   "cell_type": "markdown",
   "metadata": {},
   "source": [
    "## One-hot encoding"
   ]
  },
  {
   "cell_type": "code",
   "execution_count": 38,
   "metadata": {},
   "outputs": [
    {
     "name": "stdout",
     "output_type": "stream",
     "text": [
      "[0. 0. 0. 0. 0. 1. 0. 0. 0. 0.]\n"
     ]
    }
   ],
   "source": [
    "y_train_bin = to_categorical(y_train)\n",
    "y_test_bin = to_categorical(y_test)\n",
    "\n",
    "print(y_train_bin[0])"
   ]
  },
  {
   "cell_type": "markdown",
   "metadata": {},
   "source": [
    "# Network architect"
   ]
  },
  {
   "cell_type": "code",
   "execution_count": 39,
   "metadata": {},
   "outputs": [],
   "source": [
    "model = Sequential()\n",
    "model.add(Conv2D(6, (5, 5), strides=1, activation='relu', input_shape=input_shape))\n",
    "model.add(AveragePooling2D(strides=2))\n",
    "\n",
    "model.add(Conv2D(16, (5, 5), strides=1, activation='relu'))\n",
    "model.add(AveragePooling2D(strides=2))\n",
    "\n",
    "model.add(Dropout(0.25))\n",
    "model.add(Flatten())\n",
    "\n",
    "model.add(Dense(120, activation='relu'))\n",
    "model.add(Dropout(0.5))\n",
    "\n",
    "model.add(Dense(84, activation='relu'))\n",
    "\n",
    "model.add(Dense(10, activation='softmax'))"
   ]
  },
  {
   "cell_type": "code",
   "execution_count": 40,
   "metadata": {},
   "outputs": [],
   "source": [
    "model.compile(loss=keras.losses.categorical_crossentropy,\n",
    "              optimizer=keras.optimizers.Adadelta(),\n",
    "              metrics=['accuracy'])\n"
   ]
  },
  {
   "cell_type": "markdown",
   "metadata": {},
   "source": [
    "# Training"
   ]
  },
  {
   "cell_type": "code",
   "execution_count": 41,
   "metadata": {
    "scrolled": true
   },
   "outputs": [
    {
     "name": "stdout",
     "output_type": "stream",
     "text": [
      "Train on 60000 samples, validate on 10000 samples\n",
      "Epoch 1/12\n",
      "60000/60000 [==============================] - 16s 270us/sample - loss: 0.5355 - acc: 0.8261 - val_loss: 0.1450 - val_acc: 0.9540\n",
      "Epoch 2/12\n",
      "60000/60000 [==============================] - 15s 258us/sample - loss: 0.2021 - acc: 0.9385 - val_loss: 0.0811 - val_acc: 0.9736\n",
      "Epoch 3/12\n",
      "60000/60000 [==============================] - 16s 267us/sample - loss: 0.1502 - acc: 0.9548 - val_loss: 0.0596 - val_acc: 0.9804\n",
      "Epoch 4/12\n",
      "60000/60000 [==============================] - 16s 269us/sample - loss: 0.1257 - acc: 0.9629 - val_loss: 0.0530 - val_acc: 0.9837\n",
      "Epoch 5/12\n",
      "60000/60000 [==============================] - 16s 268us/sample - loss: 0.1114 - acc: 0.9667 - val_loss: 0.0469 - val_acc: 0.9852\n",
      "Epoch 6/12\n",
      "60000/60000 [==============================] - 16s 272us/sample - loss: 0.1023 - acc: 0.9692 - val_loss: 0.0413 - val_acc: 0.9874\n",
      "Epoch 7/12\n",
      "60000/60000 [==============================] - 16s 273us/sample - loss: 0.0923 - acc: 0.9729 - val_loss: 0.0415 - val_acc: 0.9876\n",
      "Epoch 8/12\n",
      "60000/60000 [==============================] - 16s 274us/sample - loss: 0.0861 - acc: 0.9743 - val_loss: 0.0382 - val_acc: 0.9881\n",
      "Epoch 9/12\n",
      "60000/60000 [==============================] - 16s 274us/sample - loss: 0.0816 - acc: 0.9759 - val_loss: 0.0360 - val_acc: 0.9893\n",
      "Epoch 10/12\n",
      "60000/60000 [==============================] - 17s 277us/sample - loss: 0.0772 - acc: 0.9769 - val_loss: 0.0331 - val_acc: 0.9897\n",
      "Epoch 11/12\n",
      "60000/60000 [==============================] - 17s 277us/sample - loss: 0.0755 - acc: 0.9779 - val_loss: 0.0335 - val_acc: 0.9898\n",
      "Epoch 12/12\n",
      "60000/60000 [==============================] - 17s 277us/sample - loss: 0.0703 - acc: 0.9788 - val_loss: 0.0321 - val_acc: 0.9892\n",
      "Test loss: 0.03207065054273407\n",
      "Test accuracy: 0.9892\n"
     ]
    }
   ],
   "source": [
    "model.fit(x_train, y_train_bin,\n",
    "          batch_size=batch_size,\n",
    "          epochs=epochs,\n",
    "          verbose=1,\n",
    "          validation_data=(x_test, y_test_bin))\n",
    "score = model.evaluate(x_test, y_test_bin, verbose=0)\n",
    "print('Test loss:', score[0])\n",
    "print('Test accuracy:', score[1])"
   ]
  },
  {
   "cell_type": "markdown",
   "metadata": {},
   "source": [
    "### Save model"
   ]
  },
  {
   "cell_type": "code",
   "execution_count": 42,
   "metadata": {},
   "outputs": [],
   "source": [
    "keras.models.save_model(\n",
    "    model,\n",
    "    'leNet5',\n",
    "    overwrite=True,\n",
    "    include_optimizer=True\n",
    ")"
   ]
  },
  {
   "cell_type": "code",
   "execution_count": null,
   "metadata": {},
   "outputs": [],
   "source": []
  }
 ],
 "metadata": {
  "kernelspec": {
   "display_name": "Python 3",
   "language": "python",
   "name": "python3"
  },
  "language_info": {
   "codemirror_mode": {
    "name": "ipython",
    "version": 3
   },
   "file_extension": ".py",
   "mimetype": "text/x-python",
   "name": "python",
   "nbconvert_exporter": "python",
   "pygments_lexer": "ipython3",
   "version": "3.6.7"
  }
 },
 "nbformat": 4,
 "nbformat_minor": 2
}
