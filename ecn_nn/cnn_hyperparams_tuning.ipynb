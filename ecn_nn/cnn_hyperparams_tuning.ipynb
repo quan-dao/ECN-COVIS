{
 "cells": [
  {
   "cell_type": "code",
   "execution_count": 1,
   "metadata": {},
   "outputs": [],
   "source": [
    "import datetime\n",
    "\n",
    "import tensorflow as tf\n",
    "from tensorflow.keras.layers import Conv2D, MaxPool2D, Dropout, Flatten, Dense\n",
    "\n",
    "# Imports for the HParams plugin\n",
    "from tensorboard.plugins.hparams import api_pb2\n",
    "from tensorboard.plugins.hparams import summary as hparams_summary\n",
    "from google.protobuf import struct_pb2"
   ]
  },
  {
   "cell_type": "code",
   "execution_count": 3,
   "metadata": {},
   "outputs": [],
   "source": [
    "# Get MNIST dataset\n",
    "mnist = tf.keras.datasets.mnist\n",
    "(x_train, y_train),(x_test, y_test) = mnist.load_data()\n",
    "\n",
    "x_train, x_test = x_train / 255.0, x_test / 255.0"
   ]
  },
  {
   "cell_type": "markdown",
   "metadata": {},
   "source": [
    "# Convolutional Neural Network\n",
    "\n",
    "Network architect (from input to output):\n",
    "* Conv2D\n",
    "    * Number of kernels: 32\n",
    "    * Kernel size: hyperparamters\n",
    "* Conv2D\n",
    "    * Number of kernels: 64\n",
    "    * Kernel size: hyperparamters\n",
    "* Maxpooling\n",
    "    * Kernel size: (2, 2)\n",
    "* Dropout\n",
    "* Dense\n",
    "    * Number of units: hyperparameters\n",
    "* Dropout\n",
    "* Dense\n",
    "    * Number of units: 10\n",
    "\n",
    "With the overal architect being kept constant, the following hyperparameters are tuned:\n",
    "1. Learning rate\n",
    "2. Size of kernel used in Conv2D layers (2 Conv2D layers use kernels of the same size)\n",
    "3. Dropout rate\n",
    "4. Number of units on the first Dense layer\n"
   ]
  },
  {
   "cell_type": "code",
   "execution_count": 5,
   "metadata": {},
   "outputs": [],
   "source": [
    "# Set up hyperparameters lists\n",
    "learning_rate_list = [1e-3, 1e-2, 1e-1]\n",
    "kernel_size_list = [3, 5]\n",
    "dropout_rate_list = [0, 0.25, 0.5]\n",
    "dense_units_list = [32, 128]"
   ]
  },
  {
   "cell_type": "code",
   "execution_count": null,
   "metadata": {},
   "outputs": [],
   "source": [
    "# Add hyperparamters to Hparam \n",
    "def create_experiment_summary(learning_rate_list, dropout_rate_list, kernel_size_list, dense_units_list):\n",
    "    learning_rate_list_val = struct_pb2.ListValue()\n",
    "    learning_rate_list_val.extend(learning_rate_list)\n",
    "    \n",
    "    dropout_rate_list_val = struct_pb2.ListValue()\n",
    "    dropout_rate_list_val.extend(dropout_rate_list)\n",
    "    \n",
    "    kernel_size_list_val = struct_pb2.ListValue()\n",
    "    kernel_size_list_val.extend(kernel_size_list)\n",
    "    \n",
    "    dense_units_list_val = struct_pb2.ListValue()\n",
    "    dense_units_list_val.extend(dense_units_list)\n",
    "    \n",
    "    return hparams_summary.experiment_pb(\n",
    "      # The hyperparameters being changed\n",
    "      hparam_infos=[\n",
    "          api_pb2.HParamInfo(name='learning_rate',\n",
    "                             display_name='Learning Rate',\n",
    "                             type=api_pb2.DATA_TYPE_FLOAT64,\n",
    "                             domain_discrete=learning_rate_list_val),\n",
    "          api_pb2.HParamInfo(name='kernel_size',\n",
    "                             display_name='Kernel Size',\n",
    "                             type=api_pb2.DATA_TYPE_FLOAT64,\n",
    "                             domain_discrete=kernel_size_list_val),\n",
    "          api_pb2.HParamInfo(name='dropout_rate',\n",
    "                             display_name='Dropout rate',\n",
    "                             type=api_pb2.DATA_TYPE_FLOAT64,\n",
    "                             domain_discrete=dropout_rate_list_val),\n",
    "          api_pb2.HParamInfo(name='dense_units',\n",
    "                             display_name='Dense Units',\n",
    "                             type=api_pb2.DATA_TYPE_FLOAT64,\n",
    "                             domain_discrete=dense_units_list_val)\n",
    "      ],\n",
    "      # The metrics being tracked\n",
    "      metric_infos=[\n",
    "          api_pb2.MetricInfo(\n",
    "              name=api_pb2.MetricName(\n",
    "                  tag='accuracy'),\n",
    "              display_name='Accuracy'),\n",
    "      ]\n",
    "    )\n",
    "\n",
    "exp_summary = create_experiment_summary(learning_rate_list, dropout_rate_list, kernel_size_list, dense_units_list)\n",
    "root_logdir_writer = tf.summary.create_file_writer(\"logs_cnn/hparam_tuning\")\n",
    "with root_logdir_writer.as_default():\n",
    "    tf.summary.import_event(tf.compat.v1.Event(summary=exp_summary).SerializeToString())"
   ]
  }
 ],
 "metadata": {
  "kernelspec": {
   "display_name": "Python 3",
   "language": "python",
   "name": "python3"
  },
  "language_info": {
   "codemirror_mode": {
    "name": "ipython",
    "version": 3
   },
   "file_extension": ".py",
   "mimetype": "text/x-python",
   "name": "python",
   "nbconvert_exporter": "python",
   "pygments_lexer": "ipython3",
   "version": "3.6.7"
  }
 },
 "nbformat": 4,
 "nbformat_minor": 2
}
